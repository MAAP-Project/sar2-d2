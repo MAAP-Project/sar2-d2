{
 "cells": [
  {
   "cell_type": "code",
   "execution_count": 141,
   "id": "85e585c8-fc85-47d6-9cc8-2d9012b352ee",
   "metadata": {},
   "outputs": [],
   "source": [
    "# import the MAAP package to handle queries\n",
    "from maap.maap import MAAP\n",
    "\n",
    "# import printing package to help display outputs\n",
    "from pprint import pprint"
   ]
  },
  {
   "cell_type": "code",
   "execution_count": 113,
   "id": "bf79892c-317b-475a-ab57-40b5a570d815",
   "metadata": {
    "collapsed": true,
    "jupyter": {
     "outputs_hidden": true
    }
   },
   "outputs": [
    {
     "name": "stdout",
     "output_type": "stream",
     "text": [
      "Warning: you have pip-installed dependencies in your environment file, but you do not list pip itself as one of your conda dependencies.  Conda may not use the correct pip to install your packages, and they may end up in the wrong place.  Please add an explicit pip dependency.  I'm adding one for you, but still nagging you.\n",
      "Channels:\n",
      " - conda-forge\n",
      "Platform: linux-64\n",
      "Collecting package metadata (repodata.json): done\n",
      "Solving environment: done\n",
      "Installing pip dependencies: | Ran pip subprocess with arguments:\n",
      "['/opt/conda/envs/isce3/bin/python', '-m', 'pip', 'install', '-U', '-r', '/projects/alos1-dist/sar2-d2/condaenv.ac8q0l3l.requirements.txt', '--exists-action=b']\n",
      "Pip subprocess output:\n",
      "Collecting git+https://github.com/MAAP-Project/maap-py.git (from -r /projects/alos1-dist/sar2-d2/condaenv.ac8q0l3l.requirements.txt (line 1))\n",
      "  Cloning https://github.com/MAAP-Project/maap-py.git to /tmp/pip-req-build-9_sffhne\n",
      "  Resolved https://github.com/MAAP-Project/maap-py.git to commit 1c5d61ca31d829df618c9c67181b84feeb59b8a0\n",
      "  Installing build dependencies: started\n",
      "  Installing build dependencies: finished with status 'done'\n",
      "  Getting requirements to build wheel: started\n",
      "  Getting requirements to build wheel: finished with status 'done'\n",
      "  Preparing metadata (pyproject.toml): started\n",
      "  Preparing metadata (pyproject.toml): finished with status 'done'\n",
      "Requirement already satisfied: backoff<3.0.0,>=2.2.1 in /opt/conda/envs/isce3/lib/python3.12/site-packages (from maap-py==4.1.0->-r /projects/alos1-dist/sar2-d2/condaenv.ac8q0l3l.requirements.txt (line 1)) (2.2.1)\n",
      "Requirement already satisfied: boto3<2.0.0,>=1.34.139 in /opt/conda/envs/isce3/lib/python3.12/site-packages (from maap-py==4.1.0->-r /projects/alos1-dist/sar2-d2/condaenv.ac8q0l3l.requirements.txt (line 1)) (1.35.40)\n",
      "Requirement already satisfied: configparser<8.0.0,>=7.0.0 in /opt/conda/envs/isce3/lib/python3.12/site-packages (from maap-py==4.1.0->-r /projects/alos1-dist/sar2-d2/condaenv.ac8q0l3l.requirements.txt (line 1)) (7.1.0)\n",
      "Requirement already satisfied: importlib-resources<7.0.0,>=6.4.0 in /opt/conda/envs/isce3/lib/python3.12/site-packages (from maap-py==4.1.0->-r /projects/alos1-dist/sar2-d2/condaenv.ac8q0l3l.requirements.txt (line 1)) (6.4.5)\n",
      "Requirement already satisfied: mapboxgl<0.11.0,>=0.10.2 in /opt/conda/envs/isce3/lib/python3.12/site-packages (from maap-py==4.1.0->-r /projects/alos1-dist/sar2-d2/condaenv.ac8q0l3l.requirements.txt (line 1)) (0.10.2)\n",
      "Requirement already satisfied: pyyaml<7.0.0,>=6.0.1 in /opt/conda/envs/isce3/lib/python3.12/site-packages (from maap-py==4.1.0->-r /projects/alos1-dist/sar2-d2/condaenv.ac8q0l3l.requirements.txt (line 1)) (6.0.2)\n",
      "Requirement already satisfied: requests<3.0.0,>=2.32.3 in /opt/conda/envs/isce3/lib/python3.12/site-packages (from maap-py==4.1.0->-r /projects/alos1-dist/sar2-d2/condaenv.ac8q0l3l.requirements.txt (line 1)) (2.32.3)\n",
      "Requirement already satisfied: botocore<1.36.0,>=1.35.40 in /opt/conda/envs/isce3/lib/python3.12/site-packages (from boto3<2.0.0,>=1.34.139->maap-py==4.1.0->-r /projects/alos1-dist/sar2-d2/condaenv.ac8q0l3l.requirements.txt (line 1)) (1.35.40)\n",
      "Requirement already satisfied: jmespath<2.0.0,>=0.7.1 in /opt/conda/envs/isce3/lib/python3.12/site-packages (from boto3<2.0.0,>=1.34.139->maap-py==4.1.0->-r /projects/alos1-dist/sar2-d2/condaenv.ac8q0l3l.requirements.txt (line 1)) (1.0.1)\n",
      "Requirement already satisfied: s3transfer<0.11.0,>=0.10.0 in /opt/conda/envs/isce3/lib/python3.12/site-packages (from boto3<2.0.0,>=1.34.139->maap-py==4.1.0->-r /projects/alos1-dist/sar2-d2/condaenv.ac8q0l3l.requirements.txt (line 1)) (0.10.3)\n",
      "Requirement already satisfied: jinja2 in /opt/conda/envs/isce3/lib/python3.12/site-packages (from mapboxgl<0.11.0,>=0.10.2->maap-py==4.1.0->-r /projects/alos1-dist/sar2-d2/condaenv.ac8q0l3l.requirements.txt (line 1)) (3.1.4)\n",
      "Requirement already satisfied: geojson in /opt/conda/envs/isce3/lib/python3.12/site-packages (from mapboxgl<0.11.0,>=0.10.2->maap-py==4.1.0->-r /projects/alos1-dist/sar2-d2/condaenv.ac8q0l3l.requirements.txt (line 1)) (3.1.0)\n",
      "Requirement already satisfied: chroma-py in /opt/conda/envs/isce3/lib/python3.12/site-packages (from mapboxgl<0.11.0,>=0.10.2->maap-py==4.1.0->-r /projects/alos1-dist/sar2-d2/condaenv.ac8q0l3l.requirements.txt (line 1)) (0.1.0.dev1)\n",
      "Requirement already satisfied: colour in /opt/conda/envs/isce3/lib/python3.12/site-packages (from mapboxgl<0.11.0,>=0.10.2->maap-py==4.1.0->-r /projects/alos1-dist/sar2-d2/condaenv.ac8q0l3l.requirements.txt (line 1)) (0.1.5)\n",
      "Requirement already satisfied: matplotlib in /opt/conda/envs/isce3/lib/python3.12/site-packages (from mapboxgl<0.11.0,>=0.10.2->maap-py==4.1.0->-r /projects/alos1-dist/sar2-d2/condaenv.ac8q0l3l.requirements.txt (line 1)) (3.9.2)\n",
      "Requirement already satisfied: charset-normalizer<4,>=2 in /opt/conda/envs/isce3/lib/python3.12/site-packages (from requests<3.0.0,>=2.32.3->maap-py==4.1.0->-r /projects/alos1-dist/sar2-d2/condaenv.ac8q0l3l.requirements.txt (line 1)) (3.4.0)\n",
      "Requirement already satisfied: idna<4,>=2.5 in /opt/conda/envs/isce3/lib/python3.12/site-packages (from requests<3.0.0,>=2.32.3->maap-py==4.1.0->-r /projects/alos1-dist/sar2-d2/condaenv.ac8q0l3l.requirements.txt (line 1)) (3.10)\n",
      "Requirement already satisfied: urllib3<3,>=1.21.1 in /opt/conda/envs/isce3/lib/python3.12/site-packages (from requests<3.0.0,>=2.32.3->maap-py==4.1.0->-r /projects/alos1-dist/sar2-d2/condaenv.ac8q0l3l.requirements.txt (line 1)) (1.26.19)\n",
      "Requirement already satisfied: certifi>=2017.4.17 in /opt/conda/envs/isce3/lib/python3.12/site-packages (from requests<3.0.0,>=2.32.3->maap-py==4.1.0->-r /projects/alos1-dist/sar2-d2/condaenv.ac8q0l3l.requirements.txt (line 1)) (2024.8.30)\n",
      "Requirement already satisfied: python-dateutil<3.0.0,>=2.1 in /opt/conda/envs/isce3/lib/python3.12/site-packages (from botocore<1.36.0,>=1.35.40->boto3<2.0.0,>=1.34.139->maap-py==4.1.0->-r /projects/alos1-dist/sar2-d2/condaenv.ac8q0l3l.requirements.txt (line 1)) (2.9.0)\n",
      "Requirement already satisfied: MarkupSafe>=2.0 in /opt/conda/envs/isce3/lib/python3.12/site-packages (from jinja2->mapboxgl<0.11.0,>=0.10.2->maap-py==4.1.0->-r /projects/alos1-dist/sar2-d2/condaenv.ac8q0l3l.requirements.txt (line 1)) (3.0.1)\n",
      "Requirement already satisfied: contourpy>=1.0.1 in /opt/conda/envs/isce3/lib/python3.12/site-packages (from matplotlib->mapboxgl<0.11.0,>=0.10.2->maap-py==4.1.0->-r /projects/alos1-dist/sar2-d2/condaenv.ac8q0l3l.requirements.txt (line 1)) (1.3.0)\n",
      "Requirement already satisfied: cycler>=0.10 in /opt/conda/envs/isce3/lib/python3.12/site-packages (from matplotlib->mapboxgl<0.11.0,>=0.10.2->maap-py==4.1.0->-r /projects/alos1-dist/sar2-d2/condaenv.ac8q0l3l.requirements.txt (line 1)) (0.12.1)\n",
      "Requirement already satisfied: fonttools>=4.22.0 in /opt/conda/envs/isce3/lib/python3.12/site-packages (from matplotlib->mapboxgl<0.11.0,>=0.10.2->maap-py==4.1.0->-r /projects/alos1-dist/sar2-d2/condaenv.ac8q0l3l.requirements.txt (line 1)) (4.54.1)\n",
      "Requirement already satisfied: kiwisolver>=1.3.1 in /opt/conda/envs/isce3/lib/python3.12/site-packages (from matplotlib->mapboxgl<0.11.0,>=0.10.2->maap-py==4.1.0->-r /projects/alos1-dist/sar2-d2/condaenv.ac8q0l3l.requirements.txt (line 1)) (1.4.7)\n",
      "Requirement already satisfied: numpy>=1.23 in /opt/conda/envs/isce3/lib/python3.12/site-packages (from matplotlib->mapboxgl<0.11.0,>=0.10.2->maap-py==4.1.0->-r /projects/alos1-dist/sar2-d2/condaenv.ac8q0l3l.requirements.txt (line 1)) (1.26.4)\n",
      "Requirement already satisfied: packaging>=20.0 in /opt/conda/envs/isce3/lib/python3.12/site-packages (from matplotlib->mapboxgl<0.11.0,>=0.10.2->maap-py==4.1.0->-r /projects/alos1-dist/sar2-d2/condaenv.ac8q0l3l.requirements.txt (line 1)) (24.1)\n",
      "Requirement already satisfied: pillow>=8 in /opt/conda/envs/isce3/lib/python3.12/site-packages (from matplotlib->mapboxgl<0.11.0,>=0.10.2->maap-py==4.1.0->-r /projects/alos1-dist/sar2-d2/condaenv.ac8q0l3l.requirements.txt (line 1)) (11.0.0)\n",
      "Requirement already satisfied: pyparsing>=2.3.1 in /opt/conda/envs/isce3/lib/python3.12/site-packages (from matplotlib->mapboxgl<0.11.0,>=0.10.2->maap-py==4.1.0->-r /projects/alos1-dist/sar2-d2/condaenv.ac8q0l3l.requirements.txt (line 1)) (3.2.0)\n",
      "Requirement already satisfied: six>=1.5 in /opt/conda/envs/isce3/lib/python3.12/site-packages (from python-dateutil<3.0.0,>=2.1->botocore<1.36.0,>=1.35.40->boto3<2.0.0,>=1.34.139->maap-py==4.1.0->-r /projects/alos1-dist/sar2-d2/condaenv.ac8q0l3l.requirements.txt (line 1)) (1.16.0)\n",
      "\n",
      "done\n",
      "#\n",
      "# To activate this environment, use\n",
      "#\n",
      "#     $ conda activate isce3\n",
      "#\n",
      "# To deactivate an active environment, use\n",
      "#\n",
      "#     $ conda deactivate\n",
      "\n"
     ]
    }
   ],
   "source": [
    "# update environment with sardem and the latest isce3\n",
    "# !conda env update -n isce3 --file ../environment.yml > conda_install_log.txt\n",
    "!conda env update -n isce3 --file ../environment.yml"
   ]
  },
  {
   "cell_type": "code",
   "execution_count": 143,
   "id": "be7682a3-a0ae-4752-939b-72bc5a5ba0ed",
   "metadata": {},
   "outputs": [],
   "source": [
    "bbox = \"-118.56784,34.11424,-117.28475,34.5186\"  # Los Angeles National Forest\n",
    "\n",
    "dateRange = '2006-01-01T00:00:00Z,2011-12-31T23:59:59Z'  # ALOS-1 was operational from 2006-2011\n",
    "\n",
    "direction_filter = \"ASCENDING\"  # Must be \"ASCENDING\", \"DESCENDING\", or \"NO_FILTER\"\n",
    "\n",
    "beam_modes = (\"FBS\", \"FBD\")  # Must be (\"FBS\", \"FBD\"), (\"FBD\",), or (\"FBS\", ). ISCE3 only supports FBS and FBD\n",
    "\n",
    "# https://docs.maap-project.org/en/latest/system_reference_guide/share_data.html#Share-Data\n",
    "# out_dir = '~/my-public-bucket/alos1_test/station_fire'\n",
    "base_dir = '/projects/alos1-dist/station_fire'\n",
    "in_dir = f\"{base_dir}/input\"\n",
    "out_dir = f\"{base_dir}/output\"\n",
    "\n",
    "for f in [base_dir, in_dir, out_dir]:\n",
    "    os.makedirs(f, exist_ok=True)\n"
   ]
  },
  {
   "cell_type": "code",
   "execution_count": 144,
   "id": "1033260c-98ef-4268-90f3-b91850c09830",
   "metadata": {},
   "outputs": [
    {
     "name": "stdout",
     "output_type": "stream",
     "text": [
      "Total number of search results: 338\n"
     ]
    }
   ],
   "source": [
    "# invoke the MAAP search client\n",
    "maap = MAAP()\n",
    "\n",
    "# generated from this EDSC search: https://ade.maap-project.org:30052/search/granules?p=C1206485320-ASF&pg[0][v]=f&pg[0][gsk]=-start_date&sb[0]=-118.56784%2C34.11424%2C-117.28475%2C34.5186&tl=1723592727.617!3!!&fpc0=Earth+Observation+Satellites&fpsc0=Advanced+Land+Observing+Satellite+%28ALOS%29&fps0=ALOS&fpb0=Space-based+Platforms&lat=33.933473284085615&long=-118.56941823504046&zoom=7\n",
    "results = maap.searchGranule(cmr_host=\"cmr.earthdata.nasa.gov\",\n",
    "                             bounding_box=bbox,page_num=\"1\",\n",
    "                             concept_id=\"C1206485320-ASF\",\n",
    "                             sort_key=\"-start_date\",\n",
    "                             limit=1000,\n",
    "                             temporal=dateRange\n",
    "                            )\n",
    "\n",
    "print(f\"Total number of search results: {len(results)}\")"
   ]
  },
  {
   "cell_type": "code",
   "execution_count": 145,
   "id": "3b10745e-964f-4882-a4de-155ee0daf947",
   "metadata": {},
   "outputs": [
    {
     "name": "stdout",
     "output_type": "stream",
     "text": [
      "Number of search results before filtering: 338\n",
      "n_excluded_for_direction=97\n",
      "n_excluded_for_beammode=71\n",
      "n_excluded_for_frame_num=245\n",
      "n_excluded_for_path_num=270\n",
      "Number of search results after filtering: 34\n"
     ]
    }
   ],
   "source": [
    "# Filter search results\n",
    "\n",
    "filtered_results = []\n",
    "n_excluded_for_direction = 0\n",
    "n_excluded_for_beammode = 0\n",
    "n_excluded_for_frame_num = 0\n",
    "n_excluded_for_path_num = 0\n",
    "\n",
    "for result in results:\n",
    "    keep = True\n",
    "    tmp = result['Granule']['AdditionalAttributes']['AdditionalAttribute']\n",
    "    for item in tmp:\n",
    "\n",
    "        assert direction_filter in (\"ASCENDING\", \"DESCENDING\", \"NO_FILTER\")\n",
    "        if item['Name'] == 'ASCENDING_DESCENDING':\n",
    "            if direction_filter != \"NO_FILTER\":\n",
    "                if item['Values']['Value'] != direction_filter:\n",
    "                    keep = False\n",
    "                    n_excluded_for_direction += 1\n",
    "\n",
    "        assert set(beam_modes).issubset({\"FBS\", \"FBD\"})\n",
    "        if item['Name'] == 'BEAM_MODE':\n",
    "            if item['Values']['Value'] not in beam_modes:\n",
    "                n_excluded_for_beammode += 1\n",
    "                keep = False\n",
    "\n",
    "        if item['Name'] == 'FRAME_NUMBER':\n",
    "            # print(item['Values']['Value'])\n",
    "            # frame 670 covers the Station Fire\n",
    "            if item['Values']['Value'] != '670':\n",
    "                n_excluded_for_frame_num += 1\n",
    "                keep = False\n",
    "\n",
    "        if item['Name'] == 'PATH_NUMBER':\n",
    "            # print(item['Values']['Value'])\n",
    "            # frame 670 covers the Station Fire\n",
    "            if item['Values']['Value'] != '216':\n",
    "                n_excluded_for_path_num += 1\n",
    "                keep = False\n",
    "        \n",
    "    # All filters passed. Keep this result.\n",
    "    if keep:\n",
    "        filtered_results.append(result)\n",
    "\n",
    "print(f\"Number of search results before filtering: {len(results)}\")\n",
    "print(f\"{n_excluded_for_direction=}\")\n",
    "print(f\"{n_excluded_for_beammode=}\")\n",
    "print(f\"{n_excluded_for_frame_num=}\")\n",
    "print(f\"{n_excluded_for_path_num=}\")\n",
    "print(f\"Number of search results after filtering: {len(filtered_results)}\")\n"
   ]
  },
  {
   "cell_type": "code",
   "execution_count": 82,
   "id": "37c1ad20-55ab-43b7-831b-c48d8d828a15",
   "metadata": {
    "collapsed": true,
    "jupyter": {
     "outputs_hidden": true
    }
   },
   "outputs": [
    {
     "data": {
      "text/plain": [
       "{'concept-id': 'G1208697167-ASF',\n",
       " 'collection-concept-id': 'C1206485320-ASF',\n",
       " 'revision-id': '1',\n",
       " 'format': 'application/echo10+xml',\n",
       " 'Granule': {'{http://www.w3.org/2001/XMLSchema-instance}noNamespaceSchemaLocation': '',\n",
       "  'GranuleUR': 'ALPSRP271200670-L1.0',\n",
       "  'InsertTime': '2011-05-17T23:42:13Z',\n",
       "  'LastUpdate': '2011-05-18T00:00:00Z',\n",
       "  'Collection': {'DataSetId': 'ALOS_PALSAR_LEVEL1.0'},\n",
       "  'DataGranule': {'SizeMBDataGranule': '454.15',\n",
       "   'ProducerGranuleId': 'ALPSRP271200670',\n",
       "   'DayNightFlag': 'UNSPECIFIED',\n",
       "   'ProductionDateTime': '2011-05-18T00:00:00Z'},\n",
       "  'Temporal': {'RangeDateTime': {'BeginningDateTime': '2011-02-26T06:18:00Z',\n",
       "    'EndingDateTime': '2011-02-26T06:18:08Z'}},\n",
       "  'Spatial': {'HorizontalSpatialDomain': {'Geometry': {'GPolygon': {'Boundary': {'Point': [{'PointLongitude': '-118.423',\n",
       "         'PointLatitude': '33.861'},\n",
       "        {'PointLongitude': '-118.531', 'PointLatitude': '34.365'},\n",
       "        {'PointLongitude': '-117.827', 'PointLatitude': '34.468'},\n",
       "        {'PointLongitude': '-117.722', 'PointLatitude': '33.964'}]}}}}},\n",
       "  'OrbitCalculatedSpatialDomains': {'OrbitCalculatedSpatialDomain': {'OrbitNumber': '27120'}},\n",
       "  'Platforms': {'Platform': {'ShortName': 'ALOS',\n",
       "    'Instruments': {'Instrument': {'ShortName': 'PALSAR',\n",
       "      'Sensors': {'Sensor': {'ShortName': 'FBS'}}}}}},\n",
       "  'AdditionalAttributes': {'AdditionalAttribute': [{'Name': 'FLIGHT_LINE',\n",
       "     'Values': {'Value': 'NULL'}},\n",
       "    {'Name': 'OFF_NADIR_ANGLE', 'Values': {'Value': '34.3'}},\n",
       "    {'Name': 'MD5SUM',\n",
       "     'Values': {'Value': '608e25ed6588711f4f5aed81c33de8ed'}},\n",
       "    {'Name': 'GRANULE_TYPE', 'Values': {'Value': 'ALOS_PALSAR_SCENE'}},\n",
       "    {'Name': 'ASCENDING_DESCENDING', 'Values': {'Value': 'ASCENDING'}},\n",
       "    {'Name': 'FAR_END_LAT', 'Values': {'Value': '34.468'}},\n",
       "    {'Name': 'INSAR_STACK_SIZE', 'Values': {'Value': '34'}},\n",
       "    {'Name': 'BEAM_MODE_TYPE', 'Values': {'Value': 'FBS'}},\n",
       "    {'Name': 'INSAR_BASELINE', 'Values': {'Value': '6355.6855'}},\n",
       "    {'Name': 'CENTER_FRAME_ID', 'Values': {'Value': '683'}},\n",
       "    {'Name': 'CENTER_ESA_FRAME', 'Values': {'Value': '683'}},\n",
       "    {'Name': 'ACQUISITION_DATE', 'Values': {'Value': '2011-02-26T06:18:08Z'}},\n",
       "    {'Name': 'MISSION_NAME', 'Values': {'Value': 'NULL'}},\n",
       "    {'Name': 'CENTER_LON', 'Values': {'Value': '-118.1258'}},\n",
       "    {'Name': 'NEAR_START_LAT', 'Values': {'Value': '33.861'}},\n",
       "    {'Name': 'BEAM_MODE', 'Values': {'Value': 'FBS'}},\n",
       "    {'Name': 'BEAM_MODE_DESC',\n",
       "     'Values': {'Value': 'ALOS PALSAR sensor: High Resolution Observation Mode (single polarization)'}},\n",
       "    {'Name': 'PROCESSING_TYPE', 'Values': {'Value': 'L1.0'}},\n",
       "    {'Name': 'PROCESSING_DESCRIPTION',\n",
       "     'Values': {'Value': 'Reconstructed, unprocessed signal data'}},\n",
       "    {'Name': 'FRAME_NUMBER', 'Values': {'Value': '670'}},\n",
       "    {'Name': 'PROCESSING_LEVEL', 'Values': {'Value': 'L0'}},\n",
       "    {'Name': 'PROCESSING_DATE', 'Values': {'Value': '2011-05-18 00:00:00'}},\n",
       "    {'Name': 'NEAR_START_LON', 'Values': {'Value': '-118.423'}},\n",
       "    {'Name': 'DOPPLER', 'Values': {'Value': '0'}},\n",
       "    {'Name': 'FAR_START_LAT', 'Values': {'Value': '33.964'}},\n",
       "    {'Name': 'NEAR_END_LON', 'Values': {'Value': '-118.531'}},\n",
       "    {'Name': 'PROCESSING_TYPE_DISPLAY', 'Values': {'Value': 'Level 1.0'}},\n",
       "    {'Name': 'POLARIZATION', 'Values': {'Value': 'HH'}},\n",
       "    {'Name': 'FAR_START_LON', 'Values': {'Value': '-117.722'}},\n",
       "    {'Name': 'THUMBNAIL_URL',\n",
       "     'Values': {'Value': 'https://datapool.asf.alaska.edu/THUMBNAIL/A3/AP_27120_FBS_F0670_THUMBNAIL.jpg'}},\n",
       "    {'Name': 'ASF_PLATFORM', 'Values': {'Value': 'ALOS'}},\n",
       "    {'Name': 'INSAR_STACK_ID', 'Values': {'Value': '1423995'}},\n",
       "    {'Name': 'LOOK_DIRECTION', 'Values': {'Value': 'R'}},\n",
       "    {'Name': 'PATH_NUMBER', 'Values': {'Value': '216'}},\n",
       "    {'Name': 'NEAR_END_LAT', 'Values': {'Value': '34.365'}},\n",
       "    {'Name': 'FARADAY_ROTATION', 'Values': {'Value': '3.251798'}},\n",
       "    {'Name': 'FAR_END_LON', 'Values': {'Value': '-117.827'}},\n",
       "    {'Name': 'BYTES', 'Values': {'Value': '476219920'}},\n",
       "    {'Name': 'CENTER_LAT', 'Values': {'Value': '34.1649'}}]},\n",
       "  'OnlineAccessURLs': {'OnlineAccessURL': [{'URL': 'https://datapool.asf.alaska.edu/L1.0/A3/ALPSRP271200670-L1.0.zip'}]},\n",
       "  'Orderable': 'true',\n",
       "  'Visible': 'true',\n",
       "  'AssociatedBrowseImageUrls': {'ProviderBrowseUrl': [{'URL': 'https://datapool.asf.alaska.edu/BROWSE/A3/AP_27120_FBS_F0670.jpg'},\n",
       "    {'URL': 'https://datapool.asf.alaska.edu/BROWSE/A3/ALPSRP271200670.jpg'}]}}}"
      ]
     },
     "execution_count": 82,
     "metadata": {},
     "output_type": "execute_result"
    }
   ],
   "source": [
    "filtered_results[0]"
   ]
  },
  {
   "cell_type": "code",
   "execution_count": null,
   "id": "9d5873b3-bb38-484f-872e-7cea19d6db56",
   "metadata": {},
   "outputs": [],
   "source": []
  },
  {
   "cell_type": "code",
   "execution_count": 168,
   "id": "dae50667-e7d4-4020-a0d0-c0dd879c50a5",
   "metadata": {
    "scrolled": true
   },
   "outputs": [],
   "source": [
    "# Import the ALOS1 to GCOV pipeline module\n",
    "import importlib.util\n",
    "\n",
    "module_path = '../src/alos1_2_gcov/alos1_to_gcov.py'\n",
    "spec = importlib.util.spec_from_file_location(\"alos1_to_gcov\", module_path)\n",
    "a1_to_gcov = importlib.util.module_from_spec(spec)\n",
    "spec.loader.exec_module(a1_to_gcov)\n"
   ]
  },
  {
   "cell_type": "code",
   "execution_count": 169,
   "id": "48dcec52-eec6-4769-95b9-36e13c16c9f8",
   "metadata": {},
   "outputs": [
    {
     "name": "stdout",
     "output_type": "stream",
     "text": [
      "LatLonBbox(left='-118.531', bottom='33.861', right='-117.722', top='34.468')\n",
      "Union of bboxes from all granules: LatLonBbox(left='-118.61', bottom='33.825', right='-117.722', top='34.483')\n"
     ]
    }
   ],
   "source": [
    "# For each frame ID, gather largest bbox (This will be used for the RSLC->GCOV processing step)\n",
    "\n",
    "from dataclasses import dataclass\n",
    "\n",
    "@dataclass\n",
    "class QueryBbox:\n",
    "    FAR_START_LAT: float\n",
    "    FAR_START_LON: float\n",
    "\n",
    "    NEAR_START_LAT: float\n",
    "    NEAR_START_LON: float\n",
    "    \n",
    "    NEAR_END_LAT: float\n",
    "    NEAR_END_LON: float\n",
    "    \n",
    "    FAR_END_LAT: float\n",
    "    FAR_END_LON: float\n",
    "\n",
    "    def get_bbox(self) -> a1_to_gcov.LatLonBbox:\n",
    "        \"\"\"\n",
    "        Get lat/lon bbox for North America.\n",
    "\n",
    "        TODO: make robust for all lat/lon bboxes in the world\n",
    "\n",
    "        Returns\n",
    "        -------\n",
    "        left, bottom, right, top : float\n",
    "            In lat/lon coordinates\n",
    "        \"\"\"\n",
    "        top = max(self.FAR_START_LAT, self.NEAR_START_LAT, self.NEAR_END_LAT, self.FAR_END_LAT)\n",
    "        bottom = min(self.FAR_START_LAT, self.NEAR_START_LAT, self.NEAR_END_LAT, self.FAR_END_LAT)\n",
    "\n",
    "        left = max(self.FAR_START_LON, self.NEAR_START_LON, self.NEAR_END_LON, self.FAR_END_LON)\n",
    "        right = min(self.FAR_START_LON, self.NEAR_START_LON, self.NEAR_END_LON, self.FAR_END_LON)\n",
    "\n",
    "        return a1_to_gcov.LatLonBbox(left=left, bottom=bottom, right=right, top=top)\n",
    "\n",
    "\n",
    "# Construct a list of the metadata names from the search results;\n",
    "# These metadata contain the lat/lon bbox coordinates.\n",
    "lat_lon_metadata_names = []\n",
    "for dist in ['FAR', 'NEAR']:\n",
    "    for time in ['START', 'END']:\n",
    "        for coord in ['LAT', 'LON']:\n",
    "            lat_lon_metadata_names.append(f\"{dist}_{time}_{coord}\")\n",
    "\n",
    "union_of_bboxes = None\n",
    "\n",
    "for result in filtered_results:\n",
    "    granule_attr = result['Granule']['AdditionalAttributes']['AdditionalAttribute']\n",
    "\n",
    "    # kwargs for building a Bbox instance for this granule\n",
    "    kwargs:dict[str, float] = {}\n",
    "    for item in granule_attr:\n",
    "        name_of_attribute = item['Name']\n",
    "        if name_of_attribute not in lat_lon_metadata_names:\n",
    "            continue\n",
    "            \n",
    "        # Success! Store this metadata for use in a Bbox\n",
    "        kwargs[name_of_attribute] = item['Values']['Value']\n",
    "\n",
    "    granule_bbox = QueryBbox(**kwargs).get_bbox()\n",
    "    if union_of_bboxes is None:\n",
    "        union_of_bboxes = granule_bbox\n",
    "        print(granule_bbox)\n",
    "    else:\n",
    "        union_of_bboxes = a1_to_gcov.compute_union_bbox(\n",
    "            ll1=union_of_bboxes,\n",
    "            ll2=granule_bbox\n",
    "        )\n",
    "\n",
    "\n",
    "\n",
    "print(f\"Union of bboxes from all granules: {union_of_bboxes}\")\n"
   ]
  },
  {
   "cell_type": "code",
   "execution_count": 170,
   "id": "99baac9b-b657-43e6-8ef7-8d9eeb4e6020",
   "metadata": {},
   "outputs": [
    {
     "name": "stdout",
     "output_type": "stream",
     "text": [
      "There are 32 CPUs available.\n",
      "Starting a ThreadPool of 1 threads...\n",
      "Time to download 34 ALOS-1 L1.0 granules: 0.00776982307434082 seconds\n"
     ]
    }
   ],
   "source": [
    "# Download the ALOS-1 L1.0 granules\n",
    "# WARNING - only use for ADE testing! Not DPS!\n",
    "\n",
    "import multiprocessing\n",
    "from multiprocessing.pool import ThreadPool\n",
    "import os\n",
    "from itertools import repeat\n",
    "from time import time\n",
    "\n",
    "num_to_test = len(filtered_results)\n",
    "num_to_test = 1\n",
    "\n",
    "# L0B_alos1 = \"/projects/alos1-dist/input\"\n",
    "# os.makedirs(L0B_alos1, exist_ok=True)\n",
    "\n",
    "num_available_cpu = multiprocessing.cpu_count()\n",
    "print(f\"There are {num_available_cpu} CPUs available.\")\n",
    "\n",
    "num_threads = min(num_to_test, 5)\n",
    "print(f\"Starting a ThreadPool of {num_threads} threads...\")\n",
    "pool = ThreadPool(num_threads)\n",
    "\n",
    "def download_granule(maap_item, input_dir):    \n",
    "    return maap_item.getData(input_dir)\n",
    "\n",
    "start = time()\n",
    "input_files = pool.starmap(download_granule, zip(filtered_results[:num_to_test], repeat(in_dir)))\n",
    "print(f\"Time to download {len(filtered_results)} ALOS-1 L1.0 granules: {time()-start} seconds\")"
   ]
  },
  {
   "cell_type": "code",
   "execution_count": 171,
   "id": "4f436378-c44c-4ff3-a4bb-7bf8ac98ebc5",
   "metadata": {},
   "outputs": [],
   "source": [
    "# Unpack ALOS-1 zip file and repackage into NISAR L0B format\n",
    "f_bbox = union_of_bboxes\n",
    "!./run.sh {input_files[0]} {f_bbox.left} {f_bbox.bottom} {f_bbox.right} {f_bbox.top} alos1 l0b 100\n"
   ]
  },
  {
   "cell_type": "code",
   "execution_count": null,
   "id": "3040319e-5f54-4dec-84c5-d488eebbf772",
   "metadata": {},
   "outputs": [],
   "source": [
    "# Setup some variables\n",
    "\n",
    "base_file_name = os.path.splitext(os.path.basename(input_files[0]))[0]\n",
    "base_file_name = base_file_name.split(\".\")[0]\n",
    "l0b_file = os.path.join(out_dir, f\"L0B_{base_file_name}.h5\")\n",
    "rslc_file = os.path.join(out_dir, f\"RSLC_{base_file_name}.h5\")\n",
    "gcov_file = os.path.join(out_dir, f\"GCOV_{base_file_name}.h5\")"
   ]
  },
  {
   "cell_type": "code",
   "execution_count": 101,
   "id": "84c48c13-a382-4389-aab8-13b45c8bc3c3",
   "metadata": {},
   "outputs": [
    {
     "name": "stderr",
     "output_type": "stream",
     "text": [
      "[11/18 06:29:35] [INFO dem.py] Bounds: -119.61 32.825 -116.722 35.483\n",
      "[11/18 06:29:35] [INFO cop_dem.py] Creating /projects/alos1-dist/station_fire/output/dem.tif\n",
      "[11/18 06:29:35] [INFO cop_dem.py] Fetching remote tiles...\n",
      "[11/18 06:29:35] [INFO cop_dem.py] Running GDAL command:\n",
      "[11/18 06:29:35] [INFO cop_dem.py] gdalwarp /vsicurl/https://raw.githubusercontent.com/scottstanie/sardem/master/sardem/data/cop_global.vrt /projects/alos1-dist/station_fire/output/dem.tif -of GTiff -ot Int16 -te -119.609999999999999 32.8250000000000028 -116.721999999999994 35.482999999999997 -tr 0.000277777777777777778 0.000277777777777777778 -s_srs \"epsg:4326+3855\" -t_srs \"epsg:4326\" -wo NUM_THREADS=4 -r nearest -wm 5000 -multi\n"
     ]
    },
    {
     "name": "stdout",
     "output_type": "stream",
     "text": [
      "Creating output file that is 10397P x 9569L.\n",
      "0...10...20...30...40...50...60...70...80...90...100 - done.\n"
     ]
    }
   ],
   "source": [
    "# OPTIONAL -- Make dem.tif\n",
    "# (This is handled automatically during the generation of RSLC and/or GCOV)\n",
    "padded_bbox = a1_to_gcov.pad_bbox(union_of_bboxes, pad=1.0)\n",
    "dem_file = os.path.join(out_dir, \"dem.tif\")\n",
    "dem.make_dem(padded_bbox.get_as_str(), dem_file)\n"
   ]
  },
  {
   "cell_type": "code",
   "execution_count": 102,
   "id": "fb0426d3-8a3b-4882-b416-2562a49c2de4",
   "metadata": {},
   "outputs": [],
   "source": [
    "# Step 5: Focus L0B to RSLC\n",
    "\n",
    "!./run.sh {l0b_file} {f_bbox.left} {f_bbox.bottom} {f_bbox.right} {f_bbox.top} l0b rslc 100\n",
    "\n",
    "# a1_to_gcov.l0b_to_rslc(\n",
    "#     input_l0b_path=l0b_file,\n",
    "#     output_rslc_path=rslc_file,\n",
    "#     dem_file=dem_file\n",
    "# )\n"
   ]
  },
  {
   "cell_type": "code",
   "execution_count": 208,
   "id": "f63e6834-b6f2-478b-adea-9f1926c496f0",
   "metadata": {},
   "outputs": [
    {
     "name": "stdout",
     "output_type": "stream",
     "text": [
      "[11/19 08:54:52] [INFO dem.py] Bounds: -119.48 33.235 -116.473 36.364\n",
      "[11/19 08:54:52] [INFO cop_dem.py] Creating /projects/alos1-dist/sar2-d2/nasa/output/dem.tif\n",
      "[11/19 08:54:52] [INFO cop_dem.py] Fetching remote tiles...\n",
      "[11/19 08:54:52] [INFO cop_dem.py] Running GDAL command:\n",
      "[11/19 08:54:52] [INFO cop_dem.py] gdalwarp /vsicurl/https://raw.githubusercontent.com/scottstanie/sardem/master/sardem/data/cop_global.vrt /projects/alos1-dist/sar2-d2/nasa/output/dem.tif -of GTiff -ot Int16 -te -119.480000000000004 33.2349999999999994 -116.472999999999999 36.3639999999999972 -tr 0.000277777777777777778 0.000277777777777777778 -s_srs \"epsg:4326+3855\" -t_srs \"epsg:4326\" -wo NUM_THREADS=4 -r nearest -wm 5000 -multi\n",
      "Creating output file that is 10825P x 11264L.\n",
      "0...10...20...30...40...50...60...70...80...90...100 - done.\n"
     ]
    }
   ],
   "source": [
    "# Step 5: Process RSLC to GCOV\n",
    "\n",
    "# !./run.sh {rslc_file} {f_bbox.left} {f_bbox.bottom} {f_bbox.right} {f_bbox.top} rslc gcov 100\n",
    "\n",
    "# Alternative to run the GCOV workflow from an existing runconfig file\n",
    "# !python -m nisar.workflows.gcov /projects/alos1-dist/sar2-d2/nasa/output/gcov.yaml\n",
    "\n",
    "# Use a sample NISAR product RSLC to test the GCOV workflow\n",
    "# NISAR sample data\n",
    "sample_bbox = a1_to_gcov.LatLonBbox(\n",
    "    left=-118.480,\n",
    "    bottom=34.235, \n",
    "    right=-117.473,\n",
    "    top=35.364,\n",
    ")\n",
    "sample_rslc = \"/projects/alos1-dist/R402_sample_products/NISAR_L1_PR_RSLC_001_030_A_019_2000_SHNA_A_20081012T060910_20081012T060926_D00402_N_F_J_001.h5\"\n",
    "\n",
    "!./run.sh {sample_rslc} {sample_bbox.left} {sample_bbox.bottom} {sample_bbox.right} {sample_bbox.top} rslc gcov 100\n"
   ]
  }
 ],
 "metadata": {
  "kernelspec": {
   "display_name": "Python 3 (ipykernel)",
   "language": "python",
   "name": "python3"
  },
  "language_info": {
   "codemirror_mode": {
    "name": "ipython",
    "version": 3
   },
   "file_extension": ".py",
   "mimetype": "text/x-python",
   "name": "python",
   "nbconvert_exporter": "python",
   "pygments_lexer": "ipython3",
   "version": "3.12.7"
  }
 },
 "nbformat": 4,
 "nbformat_minor": 5
}
